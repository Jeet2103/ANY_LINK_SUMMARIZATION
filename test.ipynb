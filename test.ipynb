{
 "cells": [
  {
   "cell_type": "code",
   "execution_count": 3,
   "metadata": {},
   "outputs": [],
   "source": [
    "import os\n",
    "from dotenv import load_dotenv\n",
    "load_dotenv()\n",
    "groq_api_key = os.getenv('GROQ_API_KEY')\n",
    "\n"
   ]
  },
  {
   "cell_type": "code",
   "execution_count": 6,
   "metadata": {},
   "outputs": [
    {
     "data": {
      "text/plain": [
       "AIMessage(content=\"Hello Jeetet Nandigrami, it's nice to meet you! \\n\\nIs there anything I can help you with today? 😊  \\n\\n\", response_metadata={'token_usage': {'completion_tokens': 35, 'prompt_tokens': 19, 'total_tokens': 54, 'completion_time': 0.063636364, 'prompt_time': 7.833e-05, 'queue_time': 0.015207598000000001, 'total_time': 0.063714694}, 'model_name': 'gemma2-9b-it', 'system_fingerprint': 'fp_10c08bf97d', 'finish_reason': 'stop', 'logprobs': None}, id='run-257a1188-9400-44b6-a76c-9b50a581fbe4-0', usage_metadata={'input_tokens': 19, 'output_tokens': 35, 'total_tokens': 54})"
      ]
     },
     "execution_count": 6,
     "metadata": {},
     "output_type": "execute_result"
    }
   ],
   "source": [
    "from langchain_groq import ChatGroq\n",
    "llm = ChatGroq(model=\"gemma2-9b-it\", groq_api_key = groq_api_key)\n",
    "llm.invoke(\"Hello My name is Jeet Nandigrami\")"
   ]
  },
  {
   "cell_type": "code",
   "execution_count": 34,
   "metadata": {},
   "outputs": [
    {
     "name": "stderr",
     "output_type": "stream",
     "text": [
      "c:\\Users\\hp\\.conda\\envs\\GENAI\\lib\\site-packages\\urllib3\\connectionpool.py:1099: InsecureRequestWarning: Unverified HTTPS request is being made to host 'python.langchain.com'. Adding certificate verification is strongly advised. See: https://urllib3.readthedocs.io/en/latest/advanced-usage.html#tls-warnings\n",
      "  warnings.warn(\n",
      "Error fetching or processing https://python.langchain.com/v0.2/docs/tutorials/summarization/, exception: No such file or directory: 'C:\\\\Users\\\\hp\\\\AppData\\\\Roaming\\\\nltk_data\\\\tokenizers\\\\punkt\\\\PY3_tab'\n"
     ]
    }
   ],
   "source": [
    "from langchain_community.document_loaders import YoutubeLoader, UnstructuredURLLoader\n",
    "loader=UnstructuredURLLoader(urls=['https://python.langchain.com/v0.2/docs/tutorials/summarization/'],ssl_verify=False,\n",
    "                                                 headers={\"User-Agent\": \"Mozilla/5.0 (Macintosh; Intel Mac OS X 13_5_1) AppleWebKit/537.36 (KHTML, like Gecko) Chrome/116.0.0.0 Safari/537.36\"})\n",
    "docs = loader.load()"
   ]
  },
  {
   "cell_type": "code",
   "execution_count": 33,
   "metadata": {},
   "outputs": [
    {
     "data": {
      "text/plain": [
       "[]"
      ]
     },
     "execution_count": 33,
     "metadata": {},
     "output_type": "execute_result"
    }
   ],
   "source": [
    "docs"
   ]
  },
  {
   "cell_type": "code",
   "execution_count": 20,
   "metadata": {},
   "outputs": [],
   "source": [
    "from langchain.prompts import PromptTemplate\n",
    "prompt_template=\"\"\"\n",
    "Provide a summary of the following content in 300 words:\n",
    "Content:{text}\n",
    "\n",
    "\"\"\"\n",
    "prompt=PromptTemplate(template=prompt_template,input_variables=[\"text\"])"
   ]
  },
  {
   "cell_type": "code",
   "execution_count": 21,
   "metadata": {},
   "outputs": [],
   "source": [
    "from langchain.chains.summarize import load_summarize_chain\n",
    "chain=load_summarize_chain(llm,chain_type=\"stuff\",prompt=prompt)\n",
    "output_summary=chain.run(docs)"
   ]
  },
  {
   "cell_type": "code",
   "execution_count": 22,
   "metadata": {},
   "outputs": [
    {
     "data": {
      "text/plain": [
       "'This video provides a beginner-friendly introduction to neural networks, a type of machine learning algorithm. \\n\\nThe speaker, Zara, starts by explaining the broader concept of machine learning, contrasting it with traditional programming. She uses the example of spam email detection to illustrate how machine learning algorithms learn from labeled data to identify patterns and make predictions. \\n\\nShe then dives into neural networks, explaining their structure as interconnected layers of \"neurons\" inspired by the human brain. Each neuron processes data, applies mathematical operations, and passes the result to the next layer. The connections between neurons have weights and biases that are adjusted during the learning process.\\n\\nZara explains the three key components of a neural network: \\n\\n* **Nodes (neurons):**  The basic units that process data.\\n* **Layers:**  Input, hidden (which transform data), and output layers.\\n* **Connections (weights and biases):**  Determine the strength of signals passed between neurons.\\n\\nActivation functions, like sigmoid and ReLU, are introduced as crucial elements that introduce non-linearity into the network, allowing it to learn complex patterns.\\n\\nThe video concludes by summarizing the basic concepts of neural networks and promising a deeper exploration of different types of neural networks and practical examples in future videos. \\n\\n\\n'"
      ]
     },
     "execution_count": 22,
     "metadata": {},
     "output_type": "execute_result"
    }
   ],
   "source": [
    "output_summary"
   ]
  },
  {
   "cell_type": "code",
   "execution_count": null,
   "metadata": {},
   "outputs": [],
   "source": []
  }
 ],
 "metadata": {
  "kernelspec": {
   "display_name": "GENAI",
   "language": "python",
   "name": "python3"
  },
  "language_info": {
   "codemirror_mode": {
    "name": "ipython",
    "version": 3
   },
   "file_extension": ".py",
   "mimetype": "text/x-python",
   "name": "python",
   "nbconvert_exporter": "python",
   "pygments_lexer": "ipython3",
   "version": "3.9.19"
  }
 },
 "nbformat": 4,
 "nbformat_minor": 2
}
